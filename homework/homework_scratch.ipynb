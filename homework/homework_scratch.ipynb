{
 "cells": [
  {
   "cell_type": "markdown",
   "metadata": {},
   "source": [
    "# Task 1"
   ]
  },
  {
   "cell_type": "code",
   "execution_count": null,
   "metadata": {},
   "outputs": [],
   "source": [
    "# Task: Complete each step below to print an exponentiation result to the console.\n",
    "\n",
    "# 1. Define two variables, called a and b, with numerical values of your choosing."
   ]
  },
  {
   "cell_type": "code",
   "execution_count": null,
   "metadata": {},
   "outputs": [],
   "source": [
    "# 2. Define a third variable called result which is the result of raising a to the power of b.\n",
    "# The variable result should be defined in terms of the variables a and b."
   ]
  },
  {
   "cell_type": "code",
   "execution_count": null,
   "metadata": {},
   "outputs": [],
   "source": [
    "# 3. Print to the console the following: Result: #\n",
    "# where # is replaced with the value of the result variable. For example, if a and b are 2 and 3\n",
    "# respectively, then the variable result should be 8 and Result: 8\n",
    "# should be printed to the console (with the space after the colon)."
   ]
  },
  {
   "cell_type": "markdown",
   "metadata": {},
   "source": [
    "# Task 2"
   ]
  },
  {
   "cell_type": "code",
   "execution_count": null,
   "metadata": {},
   "outputs": [],
   "source": [
    "# Task: Combine computations with lists and print the results\n",
    "\n",
    "# 1. Define a variable called numbers as a nonempty list of numbers of your choosing."
   ]
  },
  {
   "cell_type": "code",
   "execution_count": null,
   "metadata": {},
   "outputs": [],
   "source": [
    "# 2. Use a built-in function to calculate the sum of the list numbers and set it to the variable sum_numbers."
   ]
  },
  {
   "cell_type": "code",
   "execution_count": null,
   "metadata": {},
   "outputs": [],
   "source": [
    "# 3. Print to the console the following: Sum of all numbers: #\n",
    "# where # is the value of sum_numbers."
   ]
  },
  {
   "cell_type": "code",
   "execution_count": null,
   "metadata": {},
   "outputs": [],
   "source": [
    "# 4. Use the variable sum_numbers and another built-in function to calculate the average of the list numbers.\n",
    "# Set the average to the variable average_numbers.\n"
   ]
  },
  {
   "cell_type": "code",
   "execution_count": null,
   "metadata": {},
   "outputs": [],
   "source": [
    "# 5. Print to console the following: Average of numbers: #\n",
    "# where # is the value of average_numbers."
   ]
  },
  {
   "cell_type": "code",
   "execution_count": null,
   "metadata": {},
   "outputs": [],
   "source": [
    "# 6. Use built-in functions to find the maximum and minimum numbers in the list numbers.\n",
    "# Set the values equal to max_number and min_number, resepctively."
   ]
  },
  {
   "cell_type": "code",
   "execution_count": null,
   "metadata": {},
   "outputs": [],
   "source": [
    "# 7. Print to console the following: Maximum number: #\n",
    "# where # is the value of max_number."
   ]
  },
  {
   "cell_type": "code",
   "execution_count": null,
   "metadata": {},
   "outputs": [],
   "source": [
    "# 8. Print to console the following: Minimum number: #\n",
    "# where # is the value of min_number."
   ]
  },
  {
   "cell_type": "markdown",
   "metadata": {},
   "source": [
    "# Task 3"
   ]
  },
  {
   "cell_type": "code",
   "execution_count": null,
   "metadata": {},
   "outputs": [],
   "source": [
    "# Task: Correct all the errors.\n",
    "\n",
    "# 1. Find and fix the error.\n",
    "print(Hello, world!)"
   ]
  },
  {
   "cell_type": "code",
   "execution_count": null,
   "metadata": {},
   "outputs": [],
   "source": [
    "# 2. Find and fix the error.\n",
    "message = \"Greetings'"
   ]
  },
  {
   "cell_type": "code",
   "execution_count": null,
   "metadata": {},
   "outputs": [],
   "source": [
    "# 3. Find and fix the error.\n",
    "x = 5\n",
    "print(\"The value of x is\" x)"
   ]
  },
  {
   "cell_type": "code",
   "execution_count": null,
   "metadata": {},
   "outputs": [],
   "source": [
    "# 4. Find and fix the error.\n",
    "numbers = [1, 2, 3]\n",
    "print(\"The first number in the list numbers is\", numbers[1])"
   ]
  },
  {
   "cell_type": "code",
   "execution_count": null,
   "metadata": {},
   "outputs": [],
   "source": [
    "# 5. Find and fix the error.\n",
    "print(\"There are\", length(numbers), \"numbers in the list called numbers.\")"
   ]
  }
 ],
 "metadata": {
  "language_info": {
   "name": "python"
  }
 },
 "nbformat": 4,
 "nbformat_minor": 2
}
