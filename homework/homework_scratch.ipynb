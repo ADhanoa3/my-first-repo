# Task: Complete each step below to print an exponentiation result to the console.

# 1. Define two variables, called a and b, with numerical values of your choosing.
